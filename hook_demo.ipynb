{
 "cells": [
  {
   "cell_type": "code",
   "execution_count": 1,
   "id": "810af93d",
   "metadata": {},
   "outputs": [
    {
     "ename": "AttributeError",
     "evalue": "module 'ctypes' has no attribute 'WinDLL'",
     "output_type": "error",
     "traceback": [
      "\u001b[0;31m---------------------------------------------------------------------------\u001b[0m",
      "\u001b[0;31mAttributeError\u001b[0m                            Traceback (most recent call last)",
      "Cell \u001b[0;32mIn [1], line 6\u001b[0m\n\u001b[1;32m      3\u001b[0m WH_KEYBOARD_LL \u001b[38;5;241m=\u001b[39m \u001b[38;5;241m13\u001b[39m\n\u001b[1;32m      4\u001b[0m WM_KEYDOWN \u001b[38;5;241m=\u001b[39m \u001b[38;5;241m0x0100\u001b[39m\n\u001b[0;32m----> 6\u001b[0m user32 \u001b[38;5;241m=\u001b[39m \u001b[43mctypes\u001b[49m\u001b[38;5;241;43m.\u001b[39;49m\u001b[43mWinDLL\u001b[49m(\u001b[38;5;124m'\u001b[39m\u001b[38;5;124muser32\u001b[39m\u001b[38;5;124m'\u001b[39m, use_last_error\u001b[38;5;241m=\u001b[39m\u001b[38;5;28;01mTrue\u001b[39;00m)\n\u001b[1;32m      8\u001b[0m \u001b[38;5;66;03m# 定义钩子回调函数\u001b[39;00m\n\u001b[1;32m      9\u001b[0m \u001b[38;5;28;01mdef\u001b[39;00m \u001b[38;5;21mkeyboard_event\u001b[39m(nCode, wParam, lParam):\n",
      "\u001b[0;31mAttributeError\u001b[0m: module 'ctypes' has no attribute 'WinDLL'"
     ]
    }
   ],
   "source": [
    "import ctypes\n",
    "\n",
    "WH_KEYBOARD_LL = 13\n",
    "WM_KEYDOWN = 0x0100\n",
    "\n",
    "user32 = ctypes.WinDLL('user32', use_last_error=True)\n",
    "\n",
    "# 定义钩子回调函数\n",
    "def keyboard_event(nCode, wParam, lParam):\n",
    "    if wParam == WM_KEYDOWN:\n",
    "        print(\"Key pressed:\", lParam)\n",
    "    return user32.CallNextHookEx(0, nCode, wParam, lParam)\n",
    "\n",
    "# 定义钩子函数\n",
    "def set_hook(event):\n",
    "    user32.SetWindowsHookExW.restype = ctypes.c_void_p\n",
    "    hook_id = user32.SetWindowsHookExW(WH_KEYBOARD_LL, event, None, 0)\n",
    "    if not hook_id:\n",
    "        raise ctypes.WinError(ctypes.get_last_error())\n",
    "    return hook_id\n",
    "\n",
    "# 定义卸载钩子函数\n",
    "def unset_hook(hook_id):\n",
    "    if not user32.UnhookWindowsHookEx(hook_id):\n",
    "        raise ctypes.WinError(ctypes.get_last_error())\n"
   ]
  },
  {
   "cell_type": "code",
   "execution_count": null,
   "id": "f8307e22",
   "metadata": {},
   "outputs": [],
   "source": []
  }
 ],
 "metadata": {
  "kernelspec": {
   "display_name": "Python 3 (ipykernel)",
   "language": "python",
   "name": "python3"
  },
  "language_info": {
   "codemirror_mode": {
    "name": "ipython",
    "version": 3
   },
   "file_extension": ".py",
   "mimetype": "text/x-python",
   "name": "python",
   "nbconvert_exporter": "python",
   "pygments_lexer": "ipython3",
   "version": "3.9.6"
  }
 },
 "nbformat": 4,
 "nbformat_minor": 5
}
