{
 "cells": [
  {
   "cell_type": "code",
   "execution_count": 1,
   "id": "980015e0",
   "metadata": {},
   "outputs": [],
   "source": [
    "import fitz   \n",
    "\n",
    "def generate_thumbnail(pdf_path, thumbnail_path):\n",
    "    pdf_document = fitz.open(pdf_path)# Open the PDF file\n",
    "    first_page = pdf_document[0]# Get the first page    \n",
    "    rect = first_page.rect# Get the dimensions of the first page\n",
    "    pixmap = first_page.get_pixmap(matrix=fitz.Matrix(0.5, 0.5))# Create a pixmap for the first page\n",
    "    pixmap.save(thumbnail_path)# Save the pixmap as an image file (e.g., PNG)\n",
    "    pdf_document.close()# Close the PDF document\n",
    "\n",
    "pdf_path = '/Users/huangchong/Downloads/Islam and Tibet  interactions along the musk routes (Akasoy, Anna Burnett etc.).pdf'\n",
    "thumbnail_path = '/Users/huangchong/Downloads/thumbnail_2.png'\n",
    "generate_thumbnail(pdf_path, thumbnail_path)\n",
    "\n",
    "\n",
    "\n"
   ]
  },
  {
   "cell_type": "code",
   "execution_count": null,
   "id": "de165639",
   "metadata": {},
   "outputs": [],
   "source": []
  },
  {
   "cell_type": "code",
   "execution_count": null,
   "id": "59f228da",
   "metadata": {},
   "outputs": [],
   "source": []
  }
 ],
 "metadata": {
  "kernelspec": {
   "display_name": "Python 3 (ipykernel)",
   "language": "python",
   "name": "python3"
  },
  "language_info": {
   "codemirror_mode": {
    "name": "ipython",
    "version": 3
   },
   "file_extension": ".py",
   "mimetype": "text/x-python",
   "name": "python",
   "nbconvert_exporter": "python",
   "pygments_lexer": "ipython3",
   "version": "3.10.15"
  }
 },
 "nbformat": 4,
 "nbformat_minor": 5
}
