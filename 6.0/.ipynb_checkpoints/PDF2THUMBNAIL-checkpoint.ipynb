{
 "cells": [
  {
   "cell_type": "code",
   "execution_count": 2,
   "id": "980015e0",
   "metadata": {},
   "outputs": [
    {
     "ename": "FileNotFoundError",
     "evalue": "no such file: '/Users/huangchong/Downloads/Islam and Tibet  interactions along the musk routes (Akasoy, Anna Burnett etc.)'",
     "output_type": "error",
     "traceback": [
      "\u001b[0;31m---------------------------------------------------------------------------\u001b[0m",
      "\u001b[0;31mFileNotFoundError\u001b[0m                         Traceback (most recent call last)",
      "Cell \u001b[0;32mIn [2], line 13\u001b[0m\n\u001b[1;32m     11\u001b[0m pdf_path \u001b[38;5;241m=\u001b[39m \u001b[38;5;124m'\u001b[39m\u001b[38;5;124m/Users/huangchong/Downloads/Islam and Tibet  interactions along the musk routes (Akasoy, Anna Burnett etc.)\u001b[39m\u001b[38;5;124m'\u001b[39m\n\u001b[1;32m     12\u001b[0m thumbnail_path \u001b[38;5;241m=\u001b[39m \u001b[38;5;124m'\u001b[39m\u001b[38;5;124m/Users/huangchong/Downloads/thumbnail_2.png\u001b[39m\u001b[38;5;124m'\u001b[39m\n\u001b[0;32m---> 13\u001b[0m \u001b[43mgenerate_thumbnail\u001b[49m\u001b[43m(\u001b[49m\u001b[43mpdf_path\u001b[49m\u001b[43m,\u001b[49m\u001b[43m \u001b[49m\u001b[43mthumbnail_path\u001b[49m\u001b[43m)\u001b[49m\n",
      "Cell \u001b[0;32mIn [2], line 4\u001b[0m, in \u001b[0;36mgenerate_thumbnail\u001b[0;34m(pdf_path, thumbnail_path)\u001b[0m\n\u001b[1;32m      3\u001b[0m \u001b[38;5;28;01mdef\u001b[39;00m \u001b[38;5;21mgenerate_thumbnail\u001b[39m(pdf_path, thumbnail_path):\n\u001b[0;32m----> 4\u001b[0m     pdf_document \u001b[38;5;241m=\u001b[39m \u001b[43mfitz\u001b[49m\u001b[38;5;241;43m.\u001b[39;49m\u001b[43mopen\u001b[49m\u001b[43m(\u001b[49m\u001b[43mpdf_path\u001b[49m\u001b[43m)\u001b[49m\u001b[38;5;66;03m# Open the PDF file\u001b[39;00m\n\u001b[1;32m      5\u001b[0m     first_page \u001b[38;5;241m=\u001b[39m pdf_document[\u001b[38;5;241m0\u001b[39m]\u001b[38;5;66;03m# Get the first page    \u001b[39;00m\n\u001b[1;32m      6\u001b[0m     rect \u001b[38;5;241m=\u001b[39m first_page\u001b[38;5;241m.\u001b[39mrect\u001b[38;5;66;03m# Get the dimensions of the first page\u001b[39;00m\n",
      "File \u001b[0;32m~/Virtualenvs/heracles/lib/python3.10/site-packages/fitz/fitz.py:4134\u001b[0m, in \u001b[0;36mDocument.__init__\u001b[0;34m(self, filename, stream, filetype, rect, width, height, fontsize)\u001b[0m\n\u001b[1;32m   4132\u001b[0m \u001b[38;5;28;01mif\u001b[39;00m \u001b[38;5;129;01mnot\u001b[39;00m os\u001b[38;5;241m.\u001b[39mpath\u001b[38;5;241m.\u001b[39mexists(filename):\n\u001b[1;32m   4133\u001b[0m     msg \u001b[38;5;241m=\u001b[39m \u001b[38;5;124mf\u001b[39m\u001b[38;5;124m\"\u001b[39m\u001b[38;5;124mno such file: \u001b[39m\u001b[38;5;124m'\u001b[39m\u001b[38;5;132;01m{\u001b[39;00mfilename\u001b[38;5;132;01m}\u001b[39;00m\u001b[38;5;124m'\u001b[39m\u001b[38;5;124m\"\u001b[39m\n\u001b[0;32m-> 4134\u001b[0m     \u001b[38;5;28;01mraise\u001b[39;00m \u001b[38;5;167;01mFileNotFoundError\u001b[39;00m(msg)\n\u001b[1;32m   4135\u001b[0m \u001b[38;5;28;01melif\u001b[39;00m \u001b[38;5;129;01mnot\u001b[39;00m os\u001b[38;5;241m.\u001b[39mpath\u001b[38;5;241m.\u001b[39misfile(filename):\n\u001b[1;32m   4136\u001b[0m     msg \u001b[38;5;241m=\u001b[39m \u001b[38;5;124mf\u001b[39m\u001b[38;5;124m\"\u001b[39m\u001b[38;5;124m'\u001b[39m\u001b[38;5;132;01m{\u001b[39;00mfilename\u001b[38;5;132;01m}\u001b[39;00m\u001b[38;5;124m'\u001b[39m\u001b[38;5;124m is no file\u001b[39m\u001b[38;5;124m\"\u001b[39m\n",
      "\u001b[0;31mFileNotFoundError\u001b[0m: no such file: '/Users/huangchong/Downloads/Islam and Tibet  interactions along the musk routes (Akasoy, Anna Burnett etc.)'"
     ]
    }
   ],
   "source": [
    "import fitz   \n",
    "\n",
    "def generate_thumbnail(pdf_path, thumbnail_path):\n",
    "    pdf_document = fitz.open(pdf_path)# Open the PDF file\n",
    "    first_page = pdf_document[0]# Get the first page    \n",
    "    rect = first_page.rect# Get the dimensions of the first page\n",
    "    pixmap = first_page.get_pixmap(matrix=fitz.Matrix(0.5, 0.5))# Create a pixmap for the first page\n",
    "    pixmap.save(thumbnail_path)# Save the pixmap as an image file (e.g., PNG)\n",
    "    pdf_document.close()# Close the PDF document\n",
    "\n",
    "pdf_path = '/Users/huangchong/Downloads/Islam and Tibet  interactions along the musk routes (Akasoy, Anna Burnett etc.).pdf'\n",
    "thumbnail_path = '/Users/huangchong/Downloads/thumbnail_2.png'\n",
    "generate_thumbnail(pdf_path, thumbnail_path)\n",
    "\n",
    "\n",
    "\n"
   ]
  },
  {
   "cell_type": "code",
   "execution_count": null,
   "id": "de165639",
   "metadata": {},
   "outputs": [],
   "source": []
  },
  {
   "cell_type": "code",
   "execution_count": null,
   "id": "59f228da",
   "metadata": {},
   "outputs": [],
   "source": []
  }
 ],
 "metadata": {
  "kernelspec": {
   "display_name": "Python 3 (ipykernel)",
   "language": "python",
   "name": "python3"
  },
  "language_info": {
   "codemirror_mode": {
    "name": "ipython",
    "version": 3
   },
   "file_extension": ".py",
   "mimetype": "text/x-python",
   "name": "python",
   "nbconvert_exporter": "python",
   "pygments_lexer": "ipython3",
   "version": "3.10.15"
  }
 },
 "nbformat": 4,
 "nbformat_minor": 5
}
