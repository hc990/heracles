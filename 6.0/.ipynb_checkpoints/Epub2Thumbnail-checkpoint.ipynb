{
 "cells": [
  {
   "cell_type": "code",
   "execution_count": 30,
   "id": "bd664b29",
   "metadata": {},
   "outputs": [
    {
     "name": "stdout",
     "output_type": "stream",
     "text": [
      "==================================\n",
      "NAME :  <EpubHtml:cover:cover.xhtml>\n",
      "----------------------------------\n",
      "<EpubCover:x1.png:image/1.png>\n"
     ]
    }
   ],
   "source": [
    "# import ebooklib\n",
    "from ebooklib import epub\n",
    "from PIL import Image\n",
    "import os\n",
    "import io\n",
    "from imghdr import what\n",
    "\n",
    "def extract_cover(epub_path, cover_path, thumbnail_size=(100, 150)):\n",
    "    # Open the EPUB file\n",
    "    book = epub.read_epub(epub_path)\n",
    "    cover_image = book.get_item_with_id('cover')\n",
    "    file_type = what(None, h=cover_image.get_content())\n",
    "    if file_type in [\"jpeg\", \"jpg\", \"png\", \"gif\", \"bmp\", \"tiff\", \"webp\"]:\n",
    "        cover_content = cover_image.get_content() # 处理封面项目，获取封面图像数据\n",
    "        image = Image.open(io.BytesIO(cover_content))# 使用 Pillow 打开图像\n",
    "        thumbnail = image.resize(thumbnail_size)# 生成缩略图\n",
    "        thumbnail.save(cover_path) # 保存缩略图\n",
    "    else:\n",
    "        for item in book.get_items_of_type(ebooklib.ITEM_COVER):\n",
    "            if item:\n",
    "                print(item)\n",
    "                cover_content = item.get_content()\n",
    "                file_type = what(None, h=cover_content)\n",
    "                if file_type not in [\"jpeg\", \"png\", \"jpg\", \"gif\", \"bmp\", \"tiff\", \"webp\"]:\n",
    "                    raise ValueError(f\"不支持的文件类型: {file_type}\")\n",
    "                # 使用 Pillow 打开图像\n",
    "                image = Image.open(io.BytesIO(cover_content))\n",
    "                # 生成缩略图\n",
    "                rgb_im = image.convert('RGB')\n",
    "                thumbnail = rgb_im.resize(thumbnail_size)\n",
    "                # 保存缩略图\n",
    "                thumbnail.save(cover_path)\n",
    "                break\n",
    "\n",
    "\n",
    "# Example usage\n",
    "epub_path = '/Users/huangchong/Downloads/為什麼一流人才的專注力能持續一整天？：日本外科權威南雲醫師教你強化專注力的60個習慣 (南雲吉則(Yoshinori Nagumo)) (Z-Library).epub'\n",
    "cover_path = '/Users/huangchong/Downloads/thumbnail_3.jpg'\n",
    "\n",
    "extract_cover(epub_path, cover_path)\n",
    "\n",
    "\n"
   ]
  },
  {
   "cell_type": "code",
   "execution_count": null,
   "id": "e3e370e3",
   "metadata": {},
   "outputs": [],
   "source": []
  },
  {
   "cell_type": "code",
   "execution_count": null,
   "id": "7df6dbfa",
   "metadata": {},
   "outputs": [],
   "source": []
  },
  {
   "cell_type": "code",
   "execution_count": null,
   "id": "5d9046b6",
   "metadata": {},
   "outputs": [],
   "source": []
  },
  {
   "cell_type": "code",
   "execution_count": null,
   "id": "646a94be",
   "metadata": {},
   "outputs": [],
   "source": []
  }
 ],
 "metadata": {
  "kernelspec": {
   "display_name": "Python 3 (ipykernel)",
   "language": "python",
   "name": "python3"
  },
  "language_info": {
   "codemirror_mode": {
    "name": "ipython",
    "version": 3
   },
   "file_extension": ".py",
   "mimetype": "text/x-python",
   "name": "python",
   "nbconvert_exporter": "python",
   "pygments_lexer": "ipython3",
   "version": "3.10.14"
  }
 },
 "nbformat": 4,
 "nbformat_minor": 5
}
