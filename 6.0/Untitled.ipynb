{
 "cells": [
  {
   "cell_type": "code",
   "execution_count": 1,
   "id": "9c4fd93d",
   "metadata": {},
   "outputs": [
    {
     "name": "stdout",
     "output_type": "stream",
     "text": [
      "(2, 2)\n",
      "(3, 3)\n",
      "[[0. 0.]\n",
      " [0. 0.]]\n",
      "0\n",
      "0\n",
      "[[ 0.  1.]\n",
      " [ 6. 12.]]\n",
      "[[19.  0.]\n",
      " [ 0.  0.]]\n",
      "0\n",
      "1\n",
      "[[ 0.  2.]\n",
      " [ 8. 15.]]\n",
      "[[19. 25.]\n",
      " [ 0.  0.]]\n",
      "1\n",
      "0\n",
      "[[ 0.  4.]\n",
      " [12. 21.]]\n",
      "[[19. 25.]\n",
      " [37.  0.]]\n",
      "1\n",
      "1\n",
      "[[ 0.  5.]\n",
      " [14. 24.]]\n",
      "[[19. 25.]\n",
      " [37. 43.]]\n"
     ]
    },
    {
     "data": {
      "text/plain": [
       "array([[19., 25.],\n",
       "       [37., 43.]])"
      ]
     },
     "execution_count": 1,
     "metadata": {},
     "output_type": "execute_result"
    }
   ],
   "source": [
    "from mxnet import autograd, np, npx\n",
    "from mxnet.gluon import nn\n",
    "\n",
    "npx.set_np()\n",
    "\n",
    "def corr2d(X, K):  #@save\n",
    "    \"\"\"计算二维互相关运算\"\"\"\n",
    "    h, w = K.shape\n",
    "    print(K.shape)\n",
    "    print(X.shape)\n",
    "    \n",
    "    Y = np.zeros((X.shape[0] - h + 1, X.shape[1] - w + 1))\n",
    "    print(Y)\n",
    "    for i in range(Y.shape[0]):\n",
    "        for j in range(Y.shape[1]):\n",
    "            print(i)\n",
    "            print(j)\n",
    "            print(X[i:i + h, j:j + w] * K)\n",
    "            Y[i, j] = (X[i:i + h, j:j + w] * K).sum()\n",
    "            print(Y)\n",
    "    return Y\n",
    "\n",
    "X = np.array([[0.0, 1.0, 2.0], [3.0, 4.0, 5.0], [6.0, 7.0, 8.0]])\n",
    "K = np.array([[0.0, 1.0], [2.0, 3.0]])\n",
    "corr2d(X, K)"
   ]
  },
  {
   "cell_type": "code",
   "execution_count": null,
   "id": "cc065fba",
   "metadata": {},
   "outputs": [],
   "source": []
  }
 ],
 "metadata": {
  "kernelspec": {
   "display_name": "Python 3 (ipykernel)",
   "language": "python",
   "name": "python3"
  },
  "language_info": {
   "codemirror_mode": {
    "name": "ipython",
    "version": 3
   },
   "file_extension": ".py",
   "mimetype": "text/x-python",
   "name": "python",
   "nbconvert_exporter": "python",
   "pygments_lexer": "ipython3",
   "version": "3.10.5"
  }
 },
 "nbformat": 4,
 "nbformat_minor": 5
}
