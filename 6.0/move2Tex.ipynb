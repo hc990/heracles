{
 "cells": [
  {
   "cell_type": "code",
   "execution_count": 1,
   "id": "0283952c",
   "metadata": {},
   "outputs": [
    {
     "name": "stdout",
     "output_type": "stream",
     "text": [
      "download weights v0.0.1 to path /Users/huangchong/Virtualenvs/heracles/lib/python3.10/site-packages/pix2tex/model/checkpoints\n"
     ]
    },
    {
     "name": "stderr",
     "output_type": "stream",
     "text": [
      "weights.pth: 100%|██████████████████████████| 97.4M/97.4M [05:29<00:00, 310kb/s]\n",
      "image_resizer.pth: 100%|████████████████████| 18.5M/18.5M [01:04<00:00, 301kb/s]\n"
     ]
    },
    {
     "name": "stdout",
     "output_type": "stream",
     "text": [
      "\\mathbb{N}\\\\!^{n}:\n"
     ]
    }
   ],
   "source": [
    "from PIL import Image\n",
    "from pix2tex.cli import LatexOCR\n",
    "\n",
    "img = Image.open('/Users/huangchong/Pictures/flag_32.png')\n",
    "model = LatexOCR()\n",
    "print(model(img))\n",
    "\n",
    "\n",
    "\n"
   ]
  },
  {
   "cell_type": "code",
   "execution_count": null,
   "id": "70a42ae8",
   "metadata": {},
   "outputs": [],
   "source": []
  }
 ],
 "metadata": {
  "kernelspec": {
   "display_name": "Python 3 (ipykernel)",
   "language": "python",
   "name": "python3"
  },
  "language_info": {
   "codemirror_mode": {
    "name": "ipython",
    "version": 3
   },
   "file_extension": ".py",
   "mimetype": "text/x-python",
   "name": "python",
   "nbconvert_exporter": "python",
   "pygments_lexer": "ipython3",
   "version": "3.10.5"
  }
 },
 "nbformat": 4,
 "nbformat_minor": 5
}
