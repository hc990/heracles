{
 "cells": [
  {
   "cell_type": "code",
   "execution_count": 2,
   "id": "e819598f",
   "metadata": {},
   "outputs": [
    {
     "name": "stderr",
     "output_type": "stream",
     "text": [
      "UsageError: Line magic function `%%time` not found.\n"
     ]
    }
   ],
   "source": [
    "import torch\n",
    "import matplotlib.pyplot as plt\n",
    "import numpy as np\n",
    " \n",
    "# 生成 x 值\n",
    "x = torch.arange(-8.0, 8.0, 0.1, requires_grad=True)\n",
    "y = torch.sigmoid(x)\n",
    "\n",
    "# 1. 正确绘制 Sigmoid 函数\n",
    "# plt.figure(figsize=(6, 4))\n",
    "# plt.plot(x.detach().numpy(), y.detach().numpy(), label=\"Sigmoid\")\n",
    "# plt.xlabel(\"x\")\n",
    "# plt.ylabel(\"sigmoid(x)\")\n",
    "# plt.title(\"Sigmoid Function\")\n",
    "# plt.legend()\n",
    "# plt.grid()\n",
    "# plt.show()\n",
    "\n",
    "\n",
    "# 2. 如果你要显示 2D 图像，则需要正确的输入\n",
    "def show_images(imgs, num_rows, num_cols, titles=None, scale=1.5):  \n",
    "    \"\"\"绘制图像列表\"\"\"\n",
    "    figsize = (num_cols * scale, num_rows * scale)\n",
    "    fig, axes = plt.subplots(num_rows, num_cols, figsize=figsize)\n",
    "\n",
    "    # 处理单个图像情况\n",
    "    if num_rows == 1 and num_cols == 1:\n",
    "        axes = [axes]\n",
    "#         axes.flatten()\n",
    "    for i, (ax, img) in enumerate(zip(axes, imgs)):\n",
    "        # 确保 img 是 2D 或 3D 格式（灰度图或RGB图）\n",
    "        \n",
    "        if img.ndim == 1:  # 1D 数据不能绘制，需要转换\n",
    "            img = img.reshape(1, -1)  # 转换成 2D 图像\n",
    "        \n",
    "        ax.imshow(img)\n",
    "        ax.axes.get_xaxis().set_visible(True)\n",
    "        ax.axes.get_yaxis().set_visible(True)\n",
    "        if titles:\n",
    "            ax.set_title(titles[i])\n",
    "    return axes\n",
    "\n",
    " \n",
    "img_tensor = np.random.normal(0, 1, (10, 10))\n",
    "show_images(img_tensor, num_rows=1, num_cols=1, titles=[\"Random Image\"])\n"
   ]
  },
  {
   "cell_type": "code",
   "execution_count": null,
   "id": "838cd145",
   "metadata": {},
   "outputs": [],
   "source": []
  },
  {
   "cell_type": "code",
   "execution_count": null,
   "id": "02459275",
   "metadata": {},
   "outputs": [],
   "source": []
  }
 ],
 "metadata": {
  "kernelspec": {
   "display_name": "Python 3 (ipykernel)",
   "language": "python",
   "name": "python3"
  },
  "language_info": {
   "codemirror_mode": {
    "name": "ipython",
    "version": 3
   },
   "file_extension": ".py",
   "mimetype": "text/x-python",
   "name": "python",
   "nbconvert_exporter": "python",
   "pygments_lexer": "ipython3",
   "version": "3.9.6"
  }
 },
 "nbformat": 4,
 "nbformat_minor": 5
}
