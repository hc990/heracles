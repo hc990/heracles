{
 "cells": [
  {
   "cell_type": "code",
   "execution_count": 7,
   "id": "553e980e",
   "metadata": {},
   "outputs": [
    {
     "name": "stdout",
     "output_type": "stream",
     "text": [
      "2.6.0\n",
      "True\n",
      "True\n",
      "mps:0\n",
      "torch.Size([1, 16, 30, 30])\n"
     ]
    }
   ],
   "source": [
    "import torch\n",
    "import torch.nn as nn\n",
    "    \n",
    "print(torch.__version__)  # Should be 1.12 or higher (e.g., 2.0.1)\n",
    "print(torch.backends.mps.is_available())  # Should return True\n",
    "print(torch.backends.mps.is_built())  # Should return True\n",
    " \n",
    "device = torch.device('mps' if torch.backends.mps.is_available() else 'cpu')\n",
    "x = torch.randn(1000, 1000, device=device)\n",
    "y = torch.matmul(x, x)  # Matrix multiplication on MPS\n",
    "print(y.device)  # Should print mps:0\n",
    "\n",
    "\n",
    "# 定义一个二维卷积层\n",
    "conv_layer = nn.Conv2d(in_channels=3, out_channels=16, kernel_size=3, stride=1, padding=0)\n",
    "\n",
    "# 创建一个随机输入张量（模拟一批 RGB 图像）\n",
    "input_tensor = torch.randn(1, 3, 32, 32)  # batch_size=1, 3通道, 32x32\n",
    "\n",
    "# 前向传播\n",
    "output_tensor = conv_layer(input_tensor)\n",
    "\n",
    "# 输出形状\n",
    "print(output_tensor.shape)  # torch.Size([1, 16, 30, 30])"
   ]
  },
  {
   "cell_type": "code",
   "execution_count": null,
   "id": "ac028e3b",
   "metadata": {},
   "outputs": [],
   "source": []
  }
 ],
 "metadata": {
  "kernelspec": {
   "display_name": "Python 3 (ipykernel)",
   "language": "python",
   "name": "python3"
  },
  "language_info": {
   "codemirror_mode": {
    "name": "ipython",
    "version": 3
   },
   "file_extension": ".py",
   "mimetype": "text/x-python",
   "name": "python",
   "nbconvert_exporter": "python",
   "pygments_lexer": "ipython3",
   "version": "3.9.6"
  }
 },
 "nbformat": 4,
 "nbformat_minor": 5
}
