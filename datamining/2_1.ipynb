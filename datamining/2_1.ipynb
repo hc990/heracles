{
 "cells": [
  {
   "cell_type": "code",
   "execution_count": 2,
   "id": "7d5437f0",
   "metadata": {},
   "outputs": [
    {
     "name": "stdout",
     "output_type": "stream",
     "text": [
      "内积 <u, v> = 32.0\n",
      "向量 u 的模长 = 3.7417\n",
      "向量 v 的模长 = 8.7750\n",
      "夹角余弦值 cos(θ) = 0.9746\n",
      "夹角 θ (弧度) = 0.2257\n",
      "夹角 θ (角度) = 12.9332°\n",
      "内积 <u, w> = 0.0\n"
     ]
    }
   ],
   "source": [
    "import torch\n",
    "import math\n",
    "\n",
    "# 设置随机种子以确保结果可复现\n",
    "torch.manual_seed(42)\n",
    "\n",
    "# 定义两个向量（这里用 PyTorch 的张量表示）\n",
    "u = torch.tensor([1.0, 2.0, 3.0])  # 向量 u\n",
    "v = torch.tensor([4.0, 5.0, 6.0])  # 向量 v\n",
    "\n",
    "# 1. 计算内积 (dot product)\n",
    "inner_product = torch.dot(u, v)\n",
    "print(f\"内积 <u, v> = {inner_product.item()}\")  # .item() 将标量张量转换为 Python 数值\n",
    "\n",
    "# 2. 计算向量的模长 (norm)\n",
    "norm_u = torch.norm(u)\n",
    "norm_v = torch.norm(v)\n",
    "print(f\"向量 u 的模长 = {norm_u.item():.4f}\")\n",
    "print(f\"向量 v 的模长 = {norm_v.item():.4f}\")\n",
    "\n",
    "# 3. 计算夹角 (cosθ = <u,v> / (||u|| * ||v||))\n",
    "cos_theta = inner_product / (norm_u * norm_v)\n",
    "theta_rad = torch.acos(cos_theta)  # 弧度\n",
    "theta_deg = theta_rad * 180 / math.pi  # 转换为角度\n",
    "print(f\"夹角余弦值 cos(θ) = {cos_theta.item():.4f}\")\n",
    "print(f\"夹角 θ (弧度) = {theta_rad.item():.4f}\")\n",
    "print(f\"夹角 θ (角度) = {theta_deg.item():.4f}°\")\n",
    "\n",
    "# 4. 验证正交性（可选：这里构造一个与 u 正交的向量）\n",
    "w = torch.tensor([-2.0, 1.0, 0.0])  # 人为构造一个与 u 正交的向量\n",
    "inner_product_uw = torch.dot(u, w)\n",
    "print(f\"内积 <u, w> = {inner_product_uw.item()}\")  # 应接近 0，说明正交"
   ]
  },
  {
   "cell_type": "code",
   "execution_count": null,
   "id": "1f7c5657",
   "metadata": {},
   "outputs": [],
   "source": []
  }
 ],
 "metadata": {
  "kernelspec": {
   "display_name": "Python 3 (ipykernel)",
   "language": "python",
   "name": "python3"
  },
  "language_info": {
   "codemirror_mode": {
    "name": "ipython",
    "version": 3
   },
   "file_extension": ".py",
   "mimetype": "text/x-python",
   "name": "python",
   "nbconvert_exporter": "python",
   "pygments_lexer": "ipython3",
   "version": "3.9.6"
  }
 },
 "nbformat": 4,
 "nbformat_minor": 5
}
