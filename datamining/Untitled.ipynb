{
 "cells": [
  {
   "cell_type": "code",
   "execution_count": 16,
   "id": "e81bdcea",
   "metadata": {},
   "outputs": [
    {
     "name": "stdout",
     "output_type": "stream",
     "text": [
      "tensor([0, 2, 3, 4, 3, 2])\n",
      "torch.Size([6])\n",
      "tensor([[0, 2, 3],\n",
      "        [4, 3, 2]])\n"
     ]
    }
   ],
   "source": [
    "import torch\n",
    "from torch import nn\n",
    "import torch\n",
    "\n",
    "sd = torch.tensor([0,2,3,4,3,2])\n",
    "\n",
    "             \n",
    "# conv = nn.Conv2d(1, 32, kernel_size=3)\n",
    "# sd=conv.state_dict()\n",
    "print(sd)\n",
    "print(sd.shape)\n",
    "print(sd.reshape(2,3))"
   ]
  },
  {
   "cell_type": "code",
   "execution_count": null,
   "id": "c599a759",
   "metadata": {},
   "outputs": [],
   "source": []
  }
 ],
 "metadata": {
  "kernelspec": {
   "display_name": "Python 3 (ipykernel)",
   "language": "python",
   "name": "python3"
  },
  "language_info": {
   "codemirror_mode": {
    "name": "ipython",
    "version": 3
   },
   "file_extension": ".py",
   "mimetype": "text/x-python",
   "name": "python",
   "nbconvert_exporter": "python",
   "pygments_lexer": "ipython3",
   "version": "3.9.6"
  }
 },
 "nbformat": 4,
 "nbformat_minor": 5
}
