{
 "cells": [
  {
   "cell_type": "code",
   "execution_count": 3,
   "id": "5099edb6",
   "metadata": {},
   "outputs": [
    {
     "name": "stdout",
     "output_type": "stream",
     "text": [
      "ChatCompletionMessage(content='截至2023年底，xAI的Grok模型尚未对外提供公开的API接口和付费使用服务。xAI目前仍处于初创阶段，主要专注于内部研发和测试，未正式推出面向公众的商业化产品。\\n\\n如果你对使用Grok API感兴趣，建议关注xAI的官方网站和社交媒体渠道，及时获取最新动态。一旦xAI发布Grok API的相关信息和付费方案，我相信他们会通过官方渠道进行公告。\\n\\n届时，xAI可能会提供不同级别的付费计划，按使用量计费（例如按请求次数或tokens数计费），或者提供订阅制服务。具体的定价模式和费率将取决于xAI的商业策略和市场定位。\\n\\n总之，目前还无法通过付费方式使用Grok API。请保持关注xAI的官方消息，耐心等待他们推出相关的付费服务。', role='assistant', function_call=None, tool_calls=None, refusal=None)\n"
     ]
    }
   ],
   "source": [
    "import os\n",
    "from openai import OpenAI\n",
    "from dotenv import load_dotenv\n",
    "load_dotenv()\n",
    "XAI_API_KEY = os.getenv(\"X_API_KEY\")\n",
    "client = OpenAI(\n",
    "    api_key=XAI_API_KEY,\n",
    "    base_url=\"https://api.x.ai/v1\",\n",
    ")\n",
    "\n",
    "completion = client.chat.completions.create(\n",
    "    model=\"grok-2-1212\",\n",
    "    messages=[\n",
    "#         {\"role\": \"system\", \"content\": \"You are Grok, a chatbot inspired by the Hitchhikers Guide to the Galaxy.\"},\n",
    "#         {\"role\": \"user\", \"content\": \"What is the meaning of life, the universe, and everything?\"},\n",
    "        {\"role\": \"assistant\", \"content\": \"grok3 api如何付费使用\"},\n",
    "    ],\n",
    ")\n",
    "# print(completion)\n",
    "print(completion.choices[0].message)\n",
    "\n",
    "\n"
   ]
  },
  {
   "cell_type": "code",
   "execution_count": null,
   "id": "ad336ca2",
   "metadata": {},
   "outputs": [],
   "source": []
  },
  {
   "cell_type": "code",
   "execution_count": null,
   "id": "16e41310",
   "metadata": {},
   "outputs": [],
   "source": []
  },
  {
   "cell_type": "code",
   "execution_count": null,
   "id": "14123b33",
   "metadata": {},
   "outputs": [],
   "source": []
  }
 ],
 "metadata": {
  "kernelspec": {
   "display_name": "Python 3 (ipykernel)",
   "language": "python",
   "name": "python3"
  },
  "language_info": {
   "codemirror_mode": {
    "name": "ipython",
    "version": 3
   },
   "file_extension": ".py",
   "mimetype": "text/x-python",
   "name": "python",
   "nbconvert_exporter": "python",
   "pygments_lexer": "ipython3",
   "version": "3.9.6"
  }
 },
 "nbformat": 4,
 "nbformat_minor": 5
}
