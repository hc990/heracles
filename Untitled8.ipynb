{
 "cells": [
  {
   "cell_type": "code",
   "execution_count": 3,
   "id": "1a732197",
   "metadata": {},
   "outputs": [
    {
     "name": "stdout",
     "output_type": "stream",
     "text": [
      "{'id': '0f8282bb-a6a8-4209-b832-6838f490f536'}\n"
     ]
    }
   ],
   "source": [
    "import os\n",
    "import resend\n",
    "from dotenv import load_dotenv\n",
    "\n",
    "load_dotenv()\n",
    "\n",
    "resend.api_key = os.environ[\"RESEND_API_KEY\"]\n",
    "\n",
    "params: resend.Emails.SendParams = {\n",
    "    \"from\":\"huangchong@resend.dev\",\n",
    "    \"to\": [\"hwangzong@gmail.com\"],\n",
    "    \"subject\": \"hello world\",\n",
    "    \"html\": \"<strong>it works!</strong>\",\n",
    "}\n",
    "\n",
    "email = resend.Emails.send(params)\n",
    "print(email)"
   ]
  },
  {
   "cell_type": "code",
   "execution_count": null,
   "id": "75f7e533",
   "metadata": {},
   "outputs": [],
   "source": []
  }
 ],
 "metadata": {
  "kernelspec": {
   "display_name": "Python 3 (ipykernel)",
   "language": "python",
   "name": "python3"
  },
  "language_info": {
   "codemirror_mode": {
    "name": "ipython",
    "version": 3
   },
   "file_extension": ".py",
   "mimetype": "text/x-python",
   "name": "python",
   "nbconvert_exporter": "python",
   "pygments_lexer": "ipython3",
   "version": "3.10.14"
  }
 },
 "nbformat": 4,
 "nbformat_minor": 5
}
