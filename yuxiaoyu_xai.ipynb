{
 "cells": [
  {
   "cell_type": "code",
   "execution_count": 3,
   "id": "7df2de7f",
   "metadata": {},
   "outputs": [
    {
     "name": "stdout",
     "output_type": "stream",
     "text": [
      "Here is the extracted information in JSON format with the time converted to MongoDB's ISODate format:\n",
      "\n",
      "```json\n",
      "[\n",
      "  {\n",
      "    \"store_name\": \"芋小鱼潮汕糖水（北外滩来福士店）\",\n",
      "    \"order_time\": {\"$date\": \"2025-03-09T09:08:00.000Z\"},\n",
      "    \"price\": \"507.08\"\n",
      "  },\n",
      "  {\n",
      "    \"store_name\": \"芋小鱼潮汕糖水（合生汇店）\",\n",
      "    \"order_time\": {\"$date\": \"2025-03-09T10:44:00.000Z\"},\n",
      "    \"price\": \"7.30\"\n",
      "  },\n",
      "  {\n",
      "    \"store_name\": \"芋小鱼潮汕糖水（合生汇店）\",\n",
      "    \"order_time\": {\"$date\": \"2025-03-09T10:43:00.000Z\"},\n",
      "    \"price\": \"220.00\"\n",
      "  }\n",
      "]\n",
      "```\n",
      "\n",
      "Note: The time has been converted to UTC format as required by MongoDB's ISODate. Make sure to adjust the time zone if necessary.\n"
     ]
    }
   ],
   "source": [
    "import os\n",
    "from openai import OpenAI\n",
    "import os\n",
    "import base64\n",
    "from dotenv import load_dotenv\n",
    "\n",
    "load_dotenv()\n",
    "XAI_API_KEY = os.getenv(\"X_API_KEY\")\n",
    "\n",
    "image_path = \"images/f8532014a537d15a882248dc98d9a0eb.PNG\"\n",
    "\n",
    "client = OpenAI(\n",
    "    api_key=XAI_API_KEY,\n",
    "    base_url=\"https://api.x.ai/v1\",\n",
    ")\n",
    "\n",
    "def encode_image(image_path):\n",
    "    with open(image_path, \"rb\") as image_file:\n",
    "        encoded_string = base64.b64encode(image_file.read()).decode(\"utf-8\")\n",
    "    return encoded_string\n",
    "\n",
    "# Getting the base64 string\n",
    "base64_image = encode_image(image_path)\n",
    "\n",
    "messages = [\n",
    "    {\n",
    "        \"role\": \"user\",\n",
    "        \"content\": [\n",
    "            {\n",
    "                \"type\": \"image_url\",\n",
    "                \"image_url\": {\n",
    "                    \"url\": f\"data:image/jpeg;base64,{base64_image}\",\n",
    "                    \"detail\": \"high\",\n",
    "                },\n",
    "            },\n",
    "            {\n",
    "                \"type\": \"text\",\n",
    "                \"text\": \"店名有：芋小鱼潮汕糖水（北外滩来福士店）、芋小鱼潮汕糖水（合生汇店）请提取店名、下单时间、价格，并用英语生成json格式，时间数据转化成mongodb时间格式\",\n",
    "            },\n",
    "        ],\n",
    "    },\n",
    "]\n",
    "\n",
    "completion = client.chat.completions.create(\n",
    "    model=\"grok-2-vision-latest\",\n",
    "    messages=messages,\n",
    "    temperature=0.01,\n",
    ")\n",
    "\n",
    "print(completion.choices[0].message.content)"
   ]
  },
  {
   "cell_type": "code",
   "execution_count": null,
   "id": "43cfb836",
   "metadata": {},
   "outputs": [],
   "source": []
  },
  {
   "cell_type": "code",
   "execution_count": null,
   "id": "5c8713ea",
   "metadata": {},
   "outputs": [],
   "source": []
  }
 ],
 "metadata": {
  "kernelspec": {
   "display_name": "Python 3 (ipykernel)",
   "language": "python",
   "name": "python3"
  },
  "language_info": {
   "codemirror_mode": {
    "name": "ipython",
    "version": 3
   },
   "file_extension": ".py",
   "mimetype": "text/x-python",
   "name": "python",
   "nbconvert_exporter": "python",
   "pygments_lexer": "ipython3",
   "version": "3.9.6"
  }
 },
 "nbformat": 4,
 "nbformat_minor": 5
}
