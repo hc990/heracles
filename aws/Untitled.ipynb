{
 "cells": [
  {
   "cell_type": "code",
   "execution_count": 6,
   "id": "f1c0b3d7",
   "metadata": {},
   "outputs": [
    {
     "name": "stdout",
     "output_type": "stream",
     "text": [
      "byestack-hellobucket-cwjclp8isqna\n",
      "cdk-hnb659fds-assets-851725253893-us-east-1\n",
      "cf-templates-1xbdh139n7cot-us-east-1\n",
      "hellobucket-hellobucket-rhxvbwopodlg\n",
      "hellocdkstack-myfirstbucketb8884501-47y0rqefjipz\n",
      "myawsbucket-034324324\n",
      "mybuckert-890898098\n",
      "website-example-851725253893\n"
     ]
    }
   ],
   "source": [
    "import boto3\n",
    "\n",
    "s3 = boto3.resource('s3')\n",
    "for bucket in s3.buckets.all():\n",
    "    print(bucket.name)\n",
    "    \n",
    "with open('test.jpg', 'rb') as data:\n",
    "    s3.Bucket('myawsbucket-034324324').put_object(Key='test.jpg', Body=data)"
   ]
  },
  {
   "cell_type": "code",
   "execution_count": null,
   "id": "1a1374d1",
   "metadata": {},
   "outputs": [],
   "source": []
  }
 ],
 "metadata": {
  "kernelspec": {
   "display_name": "Python 3 (ipykernel)",
   "language": "python",
   "name": "python3"
  },
  "language_info": {
   "codemirror_mode": {
    "name": "ipython",
    "version": 3
   },
   "file_extension": ".py",
   "mimetype": "text/x-python",
   "name": "python",
   "nbconvert_exporter": "python",
   "pygments_lexer": "ipython3",
   "version": "3.10.14"
  }
 },
 "nbformat": 4,
 "nbformat_minor": 5
}
