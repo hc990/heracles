{
 "cells": [
  {
   "cell_type": "code",
   "execution_count": 4,
   "id": "46cf9965",
   "metadata": {},
   "outputs": [
    {
     "name": "stdout",
     "output_type": "stream",
     "text": [
      "[[-0.13598396  0.18532291  0.52553153 ...  0.03660383  1.2151092\n",
      "   1.4619508 ]\n",
      " [ 0.4115641   1.0158744  -1.1875575  ... -0.17618555  0.6392047\n",
      "  -0.2729877 ]\n",
      " [-0.8995062  -0.05313013  0.07543428 ... -0.7995005  -0.24544214\n",
      "   0.68053705]\n",
      " ...\n",
      " [ 0.6486121   1.1074609   0.6631743  ...  0.24508221  0.8284341\n",
      "   0.6079963 ]\n",
      " [ 0.02485841 -0.9621319  -0.7338373  ... -0.43779105 -0.31881413\n",
      "  -1.0937439 ]\n",
      " [ 0.77489865 -0.54421085 -0.40333444 ... -1.9968532  -1.3548431\n",
      "  -0.30842665]]\n",
      "[[-0.13598396  0.18532291  0.52553153 ...  0.03660383  1.2151092\n",
      "   1.4619508 ]\n",
      " [ 0.4115641   1.0158744  -1.1875575  ... -0.17618555  0.6392047\n",
      "  -0.2729877 ]\n",
      " [-0.8995062  -0.05313013  0.07543428 ... -0.7995005  -0.24544214\n",
      "   0.68053705]\n",
      " ...\n",
      " [ 0.6486121   1.1074609   0.6631743  ...  0.24508221  0.8284341\n",
      "   0.6079963 ]\n",
      " [ 0.02485841 -0.9621319  -0.7338373  ... -0.43779105 -0.31881413\n",
      "  -1.0937439 ]\n",
      " [ 0.77489865 -0.54421085 -0.40333444 ... -1.9968532  -1.3548431\n",
      "  -0.30842665]]\n",
      "[[ 0.06882653 -0.25016242 -0.37508732 ... -0.7776243   1.1619109\n",
      "  -1.1362444 ]\n",
      " [ 1.2197855  -0.12218636  0.26235136 ...  0.95098037  1.1866399\n",
      "   0.46202505]\n",
      " [ 0.07575346 -0.44210094  1.5935235  ...  2.2961118  -0.52917755\n",
      "   1.4502321 ]\n",
      " ...\n",
      " [ 0.9514446   1.0908769   1.7961253  ...  1.383008    1.7048453\n",
      "   0.28492293]\n",
      " [-0.9470252  -0.8119403  -0.87377286 ...  0.5778463  -1.4026432\n",
      "  -0.477373  ]\n",
      " [ 0.42764375 -0.44108334 -0.15543808 ... -0.74063075 -1.39307\n",
      "  -0.69306844]]\n",
      "[[ 0.06882653 -0.25016242 -0.37508732 ... -0.7776243   1.1619109\n",
      "  -1.1362444 ]\n",
      " [ 1.2197855  -0.12218636  0.26235136 ...  0.95098037  1.1866399\n",
      "   0.46202505]\n",
      " [ 0.07575346 -0.44210094  1.5935235  ...  2.2961118  -0.52917755\n",
      "   1.4502321 ]\n",
      " ...\n",
      " [ 0.9514446   1.0908769   1.7961253  ...  1.383008    1.7048453\n",
      "   0.28492293]\n",
      " [-0.9470252  -0.8119403  -0.87377286 ...  0.5778463  -1.4026432\n",
      "  -0.477373  ]\n",
      " [ 0.42764375 -0.44108334 -0.15543808 ... -0.74063075 -1.39307\n",
      "  -0.69306844]]\n"
     ]
    },
    {
     "data": {
      "text/plain": [
       "0"
      ]
     },
     "execution_count": 4,
     "metadata": {},
     "output_type": "execute_result"
    }
   ],
   "source": [
    "%matplotlib inline\n",
    "import mxnet as mx\n",
    "from mxnet import autograd, nd, np, npx,gluon\n",
    "import matplotlib.pyplot as plt\n",
    "from matplotlib_inline import backend_inline\n",
    "\n",
    "\n",
    "npx.set_np()\n",
    "\n",
    "def synthetic_data(w, b, num_examples):  #@save\n",
    "    \"\"\"生成y=Xw+b+噪声\"\"\"\n",
    "    X = np.random.normal(0, 1, (num_examples, len(w)))\n",
    "    print(X)\n",
    "    y = np.dot(X, w) + b\n",
    "    y += np.random.normal(0, 0.01, y.shape)\n",
    "    print(X)\n",
    "    return X, y.reshape((-1, 1))\n",
    "\n",
    "def load_array(data_arrays, batch_size, is_train=True):  #@save\n",
    "    \"\"\"构造一个Gluon数据迭代器\"\"\"\n",
    "    dataset = gluon.data.ArrayDataset(*data_arrays)\n",
    "    return gluon.data.DataLoader(dataset, batch_size, shuffle=is_train)\n",
    "\n",
    "\n",
    "n_train, n_test, num_inputs, batch_size = 20, 100, 200, 5\n",
    "true_w, true_b = np.ones((num_inputs, 1)) * 0.01, 0.05\n",
    "train_data = synthetic_data(true_w, true_b, n_train)\n",
    "train_iter = load_array(train_data, batch_size)\n",
    "test_data = synthetic_data(true_w, true_b, n_test)\n",
    "test_iter = load_array(test_data, batch_size, is_train=False)\n",
    "\n",
    "\n",
    "\n",
    "npx.cpu(), npx.gpu(), npx.gpu(1)\n",
    "npx.num_gpus()"
   ]
  },
  {
   "cell_type": "code",
   "execution_count": null,
   "id": "832f4e92",
   "metadata": {},
   "outputs": [],
   "source": []
  },
  {
   "cell_type": "code",
   "execution_count": null,
   "id": "646307b3",
   "metadata": {},
   "outputs": [],
   "source": []
  }
 ],
 "metadata": {
  "kernelspec": {
   "display_name": "Python 3 (ipykernel)",
   "language": "python",
   "name": "python3"
  },
  "language_info": {
   "codemirror_mode": {
    "name": "ipython",
    "version": 3
   },
   "file_extension": ".py",
   "mimetype": "text/x-python",
   "name": "python",
   "nbconvert_exporter": "python",
   "pygments_lexer": "ipython3",
   "version": "3.10.2"
  }
 },
 "nbformat": 4,
 "nbformat_minor": 5
}
