{
 "cells": [
  {
   "cell_type": "code",
   "execution_count": 5,
   "id": "f170436b",
   "metadata": {},
   "outputs": [
    {
     "name": "stdout",
     "output_type": "stream",
     "text": [
      "This is a collection of 84 short essays by Japanese artist and writer Takehisa Yumeji, translated into Chinese.  The essays are lyrical and melancholic, reflecting the \"mono no aware\" (the pathos of things) characteristic of Japanese aesthetics.  They depict scenes of everyday life in Taisho-era Japan, often focusing on nature, women, and fleeting moments.  The collection is described as evoking a sense of longing and wandering, capturing the author's personal feelings and the atmosphere of his time.  The book includes illustrations by Yumeji himself.\n"
     ]
    }
   ],
   "source": [
    "import google.generativeai as genai\n",
    "import os\n",
    "from dotenv import load_dotenv\n",
    "import pathlib\n",
    "load_dotenv()\n",
    "genai.configure(api_key=os.environ.get(\"GOOGLE_API_KEY\"))\n",
    "\n",
    "\n",
    "media = pathlib.Path(\"\")\n",
    "model = genai.GenerativeModel(\"gemini-1.5-flash\")\n",
    "sample_pdf = genai.upload_file(media / \"物哀 (（日）竹久梦二著, 竹久梦二 (1884-1934), (日) 竹久梦二) (Z-Library).pdf\")\n",
    "response = model.generate_content([\"Give me a summary of this pdf file.\", sample_pdf])\n",
    "\n",
    "print(response.text)"
   ]
  },
  {
   "cell_type": "code",
   "execution_count": null,
   "id": "c608151f",
   "metadata": {},
   "outputs": [],
   "source": []
  },
  {
   "cell_type": "code",
   "execution_count": null,
   "id": "5f19d295",
   "metadata": {},
   "outputs": [],
   "source": []
  },
  {
   "cell_type": "code",
   "execution_count": null,
   "id": "5f22e745",
   "metadata": {},
   "outputs": [],
   "source": []
  },
  {
   "cell_type": "code",
   "execution_count": null,
   "id": "b85f3d99",
   "metadata": {},
   "outputs": [],
   "source": []
  },
  {
   "cell_type": "code",
   "execution_count": null,
   "id": "004f6d8d",
   "metadata": {},
   "outputs": [],
   "source": []
  },
  {
   "cell_type": "code",
   "execution_count": null,
   "id": "1d280d1e",
   "metadata": {},
   "outputs": [],
   "source": []
  },
  {
   "cell_type": "code",
   "execution_count": null,
   "id": "38b91175",
   "metadata": {},
   "outputs": [],
   "source": []
  },
  {
   "cell_type": "code",
   "execution_count": null,
   "id": "cafeb6b9",
   "metadata": {},
   "outputs": [],
   "source": []
  }
 ],
 "metadata": {
  "kernelspec": {
   "display_name": "Python 3 (ipykernel)",
   "language": "python",
   "name": "python3"
  },
  "language_info": {
   "codemirror_mode": {
    "name": "ipython",
    "version": 3
   },
   "file_extension": ".py",
   "mimetype": "text/x-python",
   "name": "python",
   "nbconvert_exporter": "python",
   "pygments_lexer": "ipython3",
   "version": "3.10.15"
  }
 },
 "nbformat": 4,
 "nbformat_minor": 5
}
