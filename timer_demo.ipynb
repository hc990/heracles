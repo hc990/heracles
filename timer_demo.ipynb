{
 "cells": [
  {
   "cell_type": "code",
   "execution_count": 5,
   "id": "3be269fe",
   "metadata": {},
   "outputs": [
    {
     "data": {
      "text/plain": [
       "'0.00009 sec'"
      ]
     },
     "execution_count": 5,
     "metadata": {},
     "output_type": "execute_result"
    }
   ],
   "source": [
    "from mxnet import np,nd\n",
    "import matplotlib.pyplot as plt\n",
    "import math\n",
    "import time\n",
    "\n",
    "class Timer:  #@save\n",
    "    \"\"\"记录多次运行时间\"\"\"\n",
    "    def __init__(self):\n",
    "        self.times = []\n",
    "        self.start()\n",
    "\n",
    "    def start(self):\n",
    "        \"\"\"启动计时器\"\"\"\n",
    "        self.tik = time.time()\n",
    "\n",
    "    def stop(self):\n",
    "        \"\"\"停止计时器并将时间记录在列表中\"\"\"\n",
    "        self.times.append(time.time() - self.tik)\n",
    "        return self.times[-1]\n",
    "\n",
    "    def avg(self):\n",
    "        \"\"\"返回平均时间\"\"\"\n",
    "        return sum(self.times) / len(self.times)\n",
    "\n",
    "    def sum(self):\n",
    "        \"\"\"返回时间总和\"\"\"\n",
    "        return sum(self.times)\n",
    "\n",
    "    def cumsum(self):\n",
    "        \"\"\"返回累计时间\"\"\"\n",
    "        return np.array(self.times).cumsum().tolist() \n",
    "\n",
    "n = 10000\n",
    "a = np.ones([n])\n",
    "b = np.ones([n])\n",
    "c = np.zeros(n)\n",
    "timer = Timer()\n",
    "for i in range(n):\n",
    "    c[i] = a[i] + b[i]\n",
    "f'{timer.stop():.5f} sec'\n",
    "timer.start()\n",
    "d = a + b\n",
    "f'{timer.stop():.5f} sec'\n",
    "# def normal(x, mu, sigma):\n",
    "#     p = 1 / math.sqrt(2 * math.pi * sigma**2)\n",
    "#     return p * np.exp(-0.5 / sigma**2 * (x - mu)**2)\n",
    "\n",
    "# def set_figsize(figsize=(3.5, 2.5)):  #@save\n",
    "#     \"\"\"设置matplotlib的图表大小\"\"\"\n",
    "# #     use_svg_display()\n",
    "#     plt.rcParams['figure.figsize'] = figsize\n",
    "    \n",
    "\n",
    "# # 再次使用numpy进行可视化array\n",
    "# x = np.arange(-7, 7, 0.01)\n",
    "# # Mean and standard deviation pairs.len()\n",
    "# params = [(0, 1), (0, 2), (3, 1)]\n",
    "# # print(len(params))\n",
    "# # for i in range(len(params)):\n",
    "# #     x.append(np.arange(-7, 7, 0.01))\n",
    "# y_pixal=[normal(x, mu, sigma).asnumpy() for mu, sigma in params]\n",
    "# for i in range(len(y_pixal)):\n",
    "#     plt.plot(x.asnumpy(), y_pixal[i],label=[f'mean {mu}, std {sigma}' for mu, sigma in params])         \n",
    "# set_figsize(figsize=(4.5, 2.5))\n",
    "# plt.gca().set_xlabel('x')\n",
    "# plt.gca().set_ylabel('p(x)')\n",
    "\n",
    "\n"
   ]
  },
  {
   "cell_type": "markdown",
   "id": "2ec88a01",
   "metadata": {},
   "source": [
    "## "
   ]
  },
  {
   "cell_type": "code",
   "execution_count": null,
   "id": "9a2232e5",
   "metadata": {},
   "outputs": [],
   "source": []
  },
  {
   "cell_type": "code",
   "execution_count": null,
   "id": "c80126eb",
   "metadata": {},
   "outputs": [],
   "source": []
  },
  {
   "cell_type": "code",
   "execution_count": null,
   "id": "fbc387b6",
   "metadata": {},
   "outputs": [],
   "source": []
  }
 ],
 "metadata": {
  "kernelspec": {
   "display_name": "Python 3 (ipykernel)",
   "language": "python",
   "name": "python3"
  },
  "language_info": {
   "codemirror_mode": {
    "name": "ipython",
    "version": 3
   },
   "file_extension": ".py",
   "mimetype": "text/x-python",
   "name": "python",
   "nbconvert_exporter": "python",
   "pygments_lexer": "ipython3",
   "version": "3.10.2"
  }
 },
 "nbformat": 4,
 "nbformat_minor": 5
}
