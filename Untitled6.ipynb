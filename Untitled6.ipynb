{
 "cells": [
  {
   "cell_type": "code",
   "execution_count": 2,
   "id": "8f99cf25",
   "metadata": {},
   "outputs": [],
   "source": [
    "import os\n",
    "\n",
    "original_path='/Users/huangchong/SynologyDrive/books/縱走日本二千哩 (亞蘭 布斯) (Z-Library).pdf'\n",
    "symlink_path='/Users/huangchong/SynologyDrive/books/abc'\n",
    "os.symlink(original_path,symlink_path)"
   ]
  },
  {
   "cell_type": "code",
   "execution_count": null,
   "id": "47150792",
   "metadata": {},
   "outputs": [],
   "source": []
  }
 ],
 "metadata": {
  "kernelspec": {
   "display_name": "Python 3 (ipykernel)",
   "language": "python",
   "name": "python3"
  },
  "language_info": {
   "codemirror_mode": {
    "name": "ipython",
    "version": 3
   },
   "file_extension": ".py",
   "mimetype": "text/x-python",
   "name": "python",
   "nbconvert_exporter": "python",
   "pygments_lexer": "ipython3",
   "version": "3.10.14"
  }
 },
 "nbformat": 4,
 "nbformat_minor": 5
}
