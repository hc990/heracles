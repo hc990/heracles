{
 "cells": [
  {
   "cell_type": "code",
   "execution_count": 1,
   "id": "8f99cf25",
   "metadata": {},
   "outputs": [],
   "source": [
    "import numpy as np\n",
    "from PIL import Image\n",
    "import random\n",
    "\n",
    "# 生成一张28x28的随机灰度图像\n",
    "image_size = (28, 28)\n",
    "random_image_data = np.random.randint(0, 256, size=image_size, dtype=np.uint8)\n",
    "\n",
    "# 将生成的灰度图像数据转换成PIL图像\n",
    "img = Image.fromarray(random_image_data)\n",
    "\n",
    "# 显示图像\n",
    "img.show()\n",
    "\n",
    "# 保存图像\n",
    "img.save(\"test_digit.png\")\n",
    "\n",
    "\n",
    "\n"
   ]
  },
  {
   "cell_type": "code",
   "execution_count": null,
   "id": "47150792",
   "metadata": {},
   "outputs": [],
   "source": []
  },
  {
   "cell_type": "code",
   "execution_count": null,
   "id": "a9339492",
   "metadata": {},
   "outputs": [],
   "source": []
  }
 ],
 "metadata": {
  "kernelspec": {
   "display_name": "Python 3 (ipykernel)",
   "language": "python",
   "name": "python3"
  },
  "language_info": {
   "codemirror_mode": {
    "name": "ipython",
    "version": 3
   },
   "file_extension": ".py",
   "mimetype": "text/x-python",
   "name": "python",
   "nbconvert_exporter": "python",
   "pygments_lexer": "ipython3",
   "version": "3.9.6"
  }
 },
 "nbformat": 4,
 "nbformat_minor": 5
}
