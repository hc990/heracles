{
 "cells": [
  {
   "cell_type": "code",
   "execution_count": 1,
   "id": "a929b1da",
   "metadata": {},
   "outputs": [
    {
     "name": "stdout",
     "output_type": "stream",
     "text": [
      " The image is of the main characters from the Pokemon Scarlet and Violet games. They are all drawn in a cute and chibi style, and are surrounded by brightly colored balloons. The characters are Sprigatito, Fuecoco, Quaxly, Pawmi, Lechonk, Smoliv, and Koraidon.\n"
     ]
    },
    {
     "data": {
      "image/png": "[encoded data removed]",
      "text/plain": [
       "<Figure size 10x20000 with 1 Axes>"
      ]
     },
     "metadata": {},
     "output_type": "display_data"
    }
   ],
   "source": [
    "import google.generativeai as genai\n",
    "import os\n",
    "from dotenv import load_dotenv\n",
    "import PIL.Image\n",
    "from IPython import display\n",
    "from matplotlib_inline import backend_inline\n",
    "import matplotlib.pyplot as plt\n",
    "\n",
    "load_dotenv()\n",
    "genai.configure(api_key=os.environ.get(\"GOOGLE_API_KEY\"))\n",
    "\n",
    "img = PIL.Image.open('/Users/huangchong/Downloads/23_HBD_Pokemon_1242_2688.jpg')\n",
    "\n",
    "_, ax  = plt.subplots(1,1,figsize=(10,2))\n",
    "ax.imshow(img)\n",
    "\n",
    "model = genai.GenerativeModel('gemini-pro-vision')\n",
    "response = model.generate_content(img)\n",
    "\n",
    "print(response.text)"
   ]
  },
  {
   "cell_type": "code",
   "execution_count": null,
   "id": "292548e9",
   "metadata": {},
   "outputs": [],
   "source": []
  }
 ],
 "metadata": {
  "kernelspec": {
   "display_name": "Python 3 (ipykernel)",
   "language": "python",
   "name": "python3"
  },
  "language_info": {
   "codemirror_mode": {
    "name": "ipython",
    "version": 3
   },
   "file_extension": ".py",
   "mimetype": "text/x-python",
   "name": "python",
   "nbconvert_exporter": "python",
   "pygments_lexer": "ipython3",
   "version": "3.10.5"
  }
 },
 "nbformat": 4,
 "nbformat_minor": 5
}
