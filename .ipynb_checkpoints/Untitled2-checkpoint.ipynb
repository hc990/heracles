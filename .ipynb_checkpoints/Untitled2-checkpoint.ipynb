{
 "cells": [
  {
   "cell_type": "code",
   "execution_count": 10,
   "id": "46cf9965",
   "metadata": {},
   "outputs": [
    {
     "name": "stdout",
     "output_type": "stream",
     "text": [
      "[[ 2.97862673 -1.10519725 -1.05081473 ...  1.90799003 -0.85907296\n",
      "   1.552446  ]\n",
      " [-1.72248286 -0.05471764  2.13708219 ...  0.52236214 -0.69251845\n",
      "   0.68949606]\n",
      " [ 1.11124469 -0.04213478  0.93060187 ...  0.06706659  0.39606223\n",
      "  -0.67954117]\n",
      " ...\n",
      " [-0.97753829  1.1582033  -0.00945353 ...  0.08050228 -0.90340267\n",
      "   0.93217887]\n",
      " [-0.2619551  -0.39833005 -0.59745835 ... -0.72198403  0.92937617\n",
      "  -0.89843498]\n",
      " [ 1.90702852 -1.11667403  0.49547435 ... -0.08972658 -0.60653183\n",
      "  -0.59151284]]\n",
      "[[ 2.97862673 -1.10519725 -1.05081473 ...  1.90799003 -0.85907296\n",
      "   1.552446  ]\n",
      " [-1.72248286 -0.05471764  2.13708219 ...  0.52236214 -0.69251845\n",
      "   0.68949606]\n",
      " [ 1.11124469 -0.04213478  0.93060187 ...  0.06706659  0.39606223\n",
      "  -0.67954117]\n",
      " ...\n",
      " [-0.97753829  1.1582033  -0.00945353 ...  0.08050228 -0.90340267\n",
      "   0.93217887]\n",
      " [-0.2619551  -0.39833005 -0.59745835 ... -0.72198403  0.92937617\n",
      "  -0.89843498]\n",
      " [ 1.90702852 -1.11667403  0.49547435 ... -0.08972658 -0.60653183\n",
      "  -0.59151284]]\n"
     ]
    },
    {
     "ename": "AttributeError",
     "evalue": "'tuple' object has no attribute 'size'",
     "output_type": "error",
     "traceback": [
      "\u001b[0;31m---------------------------------------------------------------------------\u001b[0m",
      "\u001b[0;31mAttributeError\u001b[0m                            Traceback (most recent call last)",
      "Cell \u001b[0;32mIn [10], line 29\u001b[0m\n\u001b[1;32m     27\u001b[0m true_w, true_b \u001b[38;5;241m=\u001b[39m np\u001b[38;5;241m.\u001b[39mones((num_inputs, \u001b[38;5;241m1\u001b[39m)) \u001b[38;5;241m*\u001b[39m \u001b[38;5;241m0.01\u001b[39m, \u001b[38;5;241m0.05\u001b[39m\n\u001b[1;32m     28\u001b[0m train_data \u001b[38;5;241m=\u001b[39m synthetic_data(true_w, true_b, n_train)\n\u001b[0;32m---> 29\u001b[0m train_iter \u001b[38;5;241m=\u001b[39m \u001b[43mload_array\u001b[49m\u001b[43m(\u001b[49m\u001b[43mtrain_data\u001b[49m\u001b[43m,\u001b[49m\u001b[43m \u001b[49m\u001b[43mbatch_size\u001b[49m\u001b[43m)\u001b[49m\n\u001b[1;32m     30\u001b[0m test_data \u001b[38;5;241m=\u001b[39m synthetic_data(true_w, true_b, n_test)\n\u001b[1;32m     31\u001b[0m test_iter \u001b[38;5;241m=\u001b[39m load_array(test_data, batch_size, is_train\u001b[38;5;241m=\u001b[39m\u001b[38;5;28;01mFalse\u001b[39;00m)\n",
      "Cell \u001b[0;32mIn [10], line 22\u001b[0m, in \u001b[0;36mload_array\u001b[0;34m(data_arrays, batch_size, is_train)\u001b[0m\n\u001b[1;32m     19\u001b[0m \u001b[38;5;124;03m\"\"\"构造一个Gluon数据迭代器\"\"\"\u001b[39;00m\n\u001b[1;32m     21\u001b[0m \u001b[38;5;66;03m# 创建数据集\u001b[39;00m\n\u001b[0;32m---> 22\u001b[0m dataset \u001b[38;5;241m=\u001b[39m \u001b[43mTensorDataset\u001b[49m\u001b[43m(\u001b[49m\u001b[43mdata_arrays\u001b[49m\u001b[43m)\u001b[49m    \n\u001b[1;32m     23\u001b[0m \u001b[38;5;28;01mreturn\u001b[39;00m DataLoader(dataset, batch_size\u001b[38;5;241m=\u001b[39m\u001b[38;5;241m2\u001b[39m, shuffle\u001b[38;5;241m=\u001b[39m\u001b[38;5;28;01mTrue\u001b[39;00m)\n",
      "File \u001b[0;32m~/.virtualenvs/heracles/lib/python3.9/site-packages/torch/utils/data/dataset.py:204\u001b[0m, in \u001b[0;36mTensorDataset.__init__\u001b[0;34m(self, *tensors)\u001b[0m\n\u001b[1;32m    203\u001b[0m \u001b[38;5;28;01mdef\u001b[39;00m \u001b[38;5;21m__init__\u001b[39m(\u001b[38;5;28mself\u001b[39m, \u001b[38;5;241m*\u001b[39mtensors: Tensor) \u001b[38;5;241m-\u001b[39m\u001b[38;5;241m>\u001b[39m \u001b[38;5;28;01mNone\u001b[39;00m:\n\u001b[0;32m--> 204\u001b[0m     \u001b[38;5;28;01massert\u001b[39;00m \u001b[38;5;28;43mall\u001b[39;49m\u001b[43m(\u001b[49m\u001b[43mtensors\u001b[49m\u001b[43m[\u001b[49m\u001b[38;5;241;43m0\u001b[39;49m\u001b[43m]\u001b[49m\u001b[38;5;241;43m.\u001b[39;49m\u001b[43msize\u001b[49m\u001b[43m(\u001b[49m\u001b[38;5;241;43m0\u001b[39;49m\u001b[43m)\u001b[49m\u001b[43m \u001b[49m\u001b[38;5;241;43m==\u001b[39;49m\u001b[43m \u001b[49m\u001b[43mtensor\u001b[49m\u001b[38;5;241;43m.\u001b[39;49m\u001b[43msize\u001b[49m\u001b[43m(\u001b[49m\u001b[38;5;241;43m0\u001b[39;49m\u001b[43m)\u001b[49m\u001b[43m \u001b[49m\u001b[38;5;28;43;01mfor\u001b[39;49;00m\u001b[43m \u001b[49m\u001b[43mtensor\u001b[49m\u001b[43m \u001b[49m\u001b[38;5;129;43;01min\u001b[39;49;00m\u001b[43m \u001b[49m\u001b[43mtensors\u001b[49m\u001b[43m)\u001b[49m, \u001b[38;5;124m\"\u001b[39m\u001b[38;5;124mSize mismatch between tensors\u001b[39m\u001b[38;5;124m\"\u001b[39m\n\u001b[1;32m    205\u001b[0m     \u001b[38;5;28mself\u001b[39m\u001b[38;5;241m.\u001b[39mtensors \u001b[38;5;241m=\u001b[39m tensors\n",
      "File \u001b[0;32m~/.virtualenvs/heracles/lib/python3.9/site-packages/torch/utils/data/dataset.py:204\u001b[0m, in \u001b[0;36m<genexpr>\u001b[0;34m(.0)\u001b[0m\n\u001b[1;32m    203\u001b[0m \u001b[38;5;28;01mdef\u001b[39;00m \u001b[38;5;21m__init__\u001b[39m(\u001b[38;5;28mself\u001b[39m, \u001b[38;5;241m*\u001b[39mtensors: Tensor) \u001b[38;5;241m-\u001b[39m\u001b[38;5;241m>\u001b[39m \u001b[38;5;28;01mNone\u001b[39;00m:\n\u001b[0;32m--> 204\u001b[0m     \u001b[38;5;28;01massert\u001b[39;00m \u001b[38;5;28mall\u001b[39m(\u001b[43mtensors\u001b[49m\u001b[43m[\u001b[49m\u001b[38;5;241;43m0\u001b[39;49m\u001b[43m]\u001b[49m\u001b[38;5;241;43m.\u001b[39;49m\u001b[43msize\u001b[49m(\u001b[38;5;241m0\u001b[39m) \u001b[38;5;241m==\u001b[39m tensor\u001b[38;5;241m.\u001b[39msize(\u001b[38;5;241m0\u001b[39m) \u001b[38;5;28;01mfor\u001b[39;00m tensor \u001b[38;5;129;01min\u001b[39;00m tensors), \u001b[38;5;124m\"\u001b[39m\u001b[38;5;124mSize mismatch between tensors\u001b[39m\u001b[38;5;124m\"\u001b[39m\n\u001b[1;32m    205\u001b[0m     \u001b[38;5;28mself\u001b[39m\u001b[38;5;241m.\u001b[39mtensors \u001b[38;5;241m=\u001b[39m tensors\n",
      "\u001b[0;31mAttributeError\u001b[0m: 'tuple' object has no attribute 'size'"
     ]
    }
   ],
   "source": [
    "%matplotlib inline\n",
    "import torch  \n",
    "import matplotlib.pyplot as plt\n",
    "from matplotlib_inline import backend_inline\n",
    "import numpy as np\n",
    "from torch.utils.data import TensorDataset, DataLoader\n",
    " \n",
    "\n",
    "def synthetic_data(w, b, num_examples):  #@save\n",
    "    \"\"\"生成y=Xw+b+噪声\"\"\"\n",
    "    X = np.random.normal(0, 1, (num_examples, len(w)))\n",
    "    print(X)\n",
    "    y = np.dot(X, w) + b\n",
    "    y += np.random.normal(0, 0.01, y.shape)\n",
    "    print(X)\n",
    "    return X, y.reshape((-1, 1))\n",
    "\n",
    "def load_array(data_arrays, batch_size, is_train=True):  #@save\n",
    "    \"\"\"构造一个Gluon数据迭代器\"\"\"\n",
    "    \n",
    "    # 创建数据集\n",
    "    dataset = TensorDataset(data_arrays)    \n",
    "    return DataLoader(dataset, batch_size=2, shuffle=True)\n",
    "\n",
    "\n",
    "n_train, n_test, num_inputs, batch_size = 20, 100, 200, 5\n",
    "true_w, true_b = np.ones((num_inputs, 1)) * 0.01, 0.05\n",
    "train_data = synthetic_data(true_w, true_b, n_train)\n",
    "train_iter = load_array(train_data, batch_size)\n",
    "test_data = synthetic_data(true_w, true_b, n_test)\n",
    "test_iter = load_array(test_data, batch_size, is_train=False)\n"
   ]
  },
  {
   "cell_type": "code",
   "execution_count": null,
   "id": "832f4e92",
   "metadata": {},
   "outputs": [],
   "source": []
  },
  {
   "cell_type": "code",
   "execution_count": null,
   "id": "646307b3",
   "metadata": {},
   "outputs": [],
   "source": []
  }
 ],
 "metadata": {
  "kernelspec": {
   "display_name": "Python 3 (ipykernel)",
   "language": "python",
   "name": "python3"
  },
  "language_info": {
   "codemirror_mode": {
    "name": "ipython",
    "version": 3
   },
   "file_extension": ".py",
   "mimetype": "text/x-python",
   "name": "python",
   "nbconvert_exporter": "python",
   "pygments_lexer": "ipython3",
   "version": "3.9.6"
  }
 },
 "nbformat": 4,
 "nbformat_minor": 5
}
