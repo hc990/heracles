{
 "cells": [
  {
   "cell_type": "code",
   "execution_count": 7,
   "id": "c3250123",
   "metadata": {},
   "outputs": [
    {
     "name": "stdout",
     "output_type": "stream",
     "text": [
      "[0.16666666666666666, 0.16666666666666666, 0.16666666666666666, 0.16666666666666666, 0.16666666666666666, 0.16666666666666666]\n",
      "*******\n",
      "[[1 0 0 0 0 0]\n",
      " [1 0 0 0 0 0]]\n",
      "*******\n",
      "[[12. 23. 16. 14. 11. 24.]]\n",
      "*******\n"
     ]
    },
    {
     "ename": "NameError",
     "evalue": "name 'npx' is not defined",
     "output_type": "error",
     "traceback": [
      "\u001b[0;31m---------------------------------------------------------------------------\u001b[0m",
      "\u001b[0;31mNameError\u001b[0m                                 Traceback (most recent call last)",
      "Cell \u001b[0;32mIn [7], line 24\u001b[0m\n\u001b[1;32m     22\u001b[0m \u001b[38;5;28mprint\u001b[39m(b2)\n\u001b[1;32m     23\u001b[0m \u001b[38;5;28mprint\u001b[39m(\u001b[38;5;124m\"\u001b[39m\u001b[38;5;124m*******\u001b[39m\u001b[38;5;124m\"\u001b[39m)\n\u001b[0;32m---> 24\u001b[0m \u001b[43mnpx\u001b[49m\u001b[38;5;241m.\u001b[39mset_np()\n\u001b[1;32m     26\u001b[0m x \u001b[38;5;241m=\u001b[39m np\u001b[38;5;241m.\u001b[39marange(\u001b[38;5;241m0\u001b[39m,\u001b[38;5;241m12\u001b[39m,\u001b[38;5;241m0.1\u001b[39m)\n\u001b[1;32m     27\u001b[0m \u001b[38;5;28mprint\u001b[39m(x)\n",
      "\u001b[0;31mNameError\u001b[0m: name 'npx' is not defined"
     ]
    }
   ],
   "source": [
    "%matplotlib inline\n",
    "import numpy as np\n",
    "import torch\n",
    "from matplotlib_inline import backend_inline\n",
    "\n",
    "\n",
    "# kid_ages = [2, 7, 5, 6, 3]\n",
    "\n",
    "# max = \"\"\n",
    "# max = max(kid_ages)\n",
    "# print(max)\n",
    "\n",
    "# print(type(npx.num_gpus()))\n",
    "\n",
    "fair_probs = [1.0 / 6] * 6 \n",
    "print(fair_probs)\n",
    "b = np.random.multinomial(1, fair_probs, size=2)\n",
    "b2 = np.random.multinomial(100, fair_probs, size=1).astype(np.float32)\n",
    "print(\"*******\")\n",
    "print(b)\n",
    "print(\"*******\")\n",
    "print(b2)\n",
    "print(\"*******\")\n",
    "# npx.set_np()\n",
    "\n",
    "x = np.arange(0,12,0.1)\n",
    "print(x)\n",
    "print(x.shape)\n",
    "# x.size\n",
    "X = x.reshape(30, 4)\n",
    "print(X)\n",
    "\n",
    "# x = np.zeros((2, 3, 4))\n",
    "x = np.random.normal(0, 1, size=(4, 3))\n",
    "print(x.shape)\n",
    "print(x)\n",
    "# x = np.array([[2, 1, 4, 3], [1, 2, 3, 4], [4, 3, 2, 1]])\n",
    "# x = np.array([1, 2, 4, 8])\n",
    "# x = np.exp(x)\n",
    "a = np.arange(3)\n",
    "a = np.array([1, 1, 1])\n",
    "print(a)\n",
    "print('===============0.1156979')\n",
    "print(np.matmul(x,a.T))\n",
    "##* 和 matmul区别\n",
    "A = np.array([[1, 2], [3, 4]])\n",
    "B = np.array([[5, 6], [7, 8]])\n",
    "print('++++++++++')\n",
    "print(A)\n",
    "print(B)\n",
    "print(A*B)\n",
    "print(np.matmul(A,B))\n",
    "print('++++++++++')\n",
    "print(a.T)\n",
    "print('-------------')\n",
    "print(x*a.T)\n",
    "# b = np.arange(3).reshape(1,3)\n",
    "# a*b\n",
    "# X[-1],X[1:3]\n",
    "# A = X.asnumpy()\n",
    "# B = np.array(A)\n",
    "# type(A), type(B)\n",
    "# X = np.arange(24).reshape(2, 3, 4)\n",
    "# X\n",
    "# A = np.arange(20).reshape(5, 4)\n",
    "# B = A.copy()  # 通过分配新内存，将A的一个副本分配给B\n",
    "# A\n",
    "# x = np.arange(0, 3, 0.1)\n",
    "# x\n",
    "\n",
    "X = np.random.uniform(size=(2, 4))\n",
    "print(X)\n",
    "\n",
    "import numpy as np\n",
    "\n",
    "# Replace this with your actual data\n",
    "your_array = np.array([[1, 2, 3, 4], [5, 6, 7, 8]])\n",
    "\n",
    "# Calculate the mean\n",
    "mean_value = np.mean(your_array)\n",
    "\n",
    "# Print the result\n",
    "print(mean_value)"
   ]
  },
  {
   "cell_type": "code",
   "execution_count": null,
   "id": "80108d97",
   "metadata": {},
   "outputs": [],
   "source": []
  },
  {
   "cell_type": "code",
   "execution_count": null,
   "id": "93b678bf",
   "metadata": {},
   "outputs": [],
   "source": []
  },
  {
   "cell_type": "code",
   "execution_count": null,
   "id": "1676119d",
   "metadata": {},
   "outputs": [],
   "source": []
  },
  {
   "cell_type": "code",
   "execution_count": null,
   "id": "c2ca1f89",
   "metadata": {},
   "outputs": [],
   "source": []
  },
  {
   "cell_type": "code",
   "execution_count": null,
   "id": "5b5e86ee",
   "metadata": {},
   "outputs": [],
   "source": []
  },
  {
   "cell_type": "code",
   "execution_count": null,
   "id": "a69afc5d",
   "metadata": {},
   "outputs": [],
   "source": []
  },
  {
   "cell_type": "code",
   "execution_count": null,
   "id": "4f6938e5",
   "metadata": {},
   "outputs": [],
   "source": []
  },
  {
   "cell_type": "code",
   "execution_count": null,
   "id": "875d3780",
   "metadata": {},
   "outputs": [],
   "source": []
  },
  {
   "cell_type": "code",
   "execution_count": null,
   "id": "949576d0",
   "metadata": {},
   "outputs": [],
   "source": []
  },
  {
   "cell_type": "code",
   "execution_count": null,
   "id": "2eaa4a64",
   "metadata": {},
   "outputs": [],
   "source": []
  }
 ],
 "metadata": {
  "kernelspec": {
   "display_name": "Python 3 (ipykernel)",
   "language": "python",
   "name": "python3"
  },
  "language_info": {
   "codemirror_mode": {
    "name": "ipython",
    "version": 3
   },
   "file_extension": ".py",
   "mimetype": "text/x-python",
   "name": "python",
   "nbconvert_exporter": "python",
   "pygments_lexer": "ipython3",
   "version": "3.9.6"
  }
 },
 "nbformat": 4,
 "nbformat_minor": 5
}
