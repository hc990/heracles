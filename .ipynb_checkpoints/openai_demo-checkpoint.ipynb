{
 "cells": [
  {
   "cell_type": "code",
   "execution_count": 1,
   "id": "5099edb6",
   "metadata": {},
   "outputs": [
    {
     "ename": "AttributeError",
     "evalue": "module 'openai' has no attribute 'Completion'",
     "output_type": "error",
     "traceback": [
      "\u001b[0;31m---------------------------------------------------------------------------\u001b[0m",
      "\u001b[0;31mAttributeError\u001b[0m                            Traceback (most recent call last)",
      "Cell \u001b[0;32mIn [1], line 5\u001b[0m\n\u001b[1;32m      1\u001b[0m \u001b[38;5;28;01mimport\u001b[39;00m \u001b[38;5;21;01mopenai\u001b[39;00m \n\u001b[1;32m      3\u001b[0m openai\u001b[38;5;241m.\u001b[39mapi_key \u001b[38;5;241m=\u001b[39m \u001b[38;5;124m\"\u001b[39m\u001b[38;5;124msk-m938RAFup3woRm9nI6wwT3BlbkFJO8UUGvkc80BsLhRCqy17\u001b[39m\u001b[38;5;124m\"\u001b[39m\n\u001b[0;32m----> 5\u001b[0m response \u001b[38;5;241m=\u001b[39m \u001b[43mopenai\u001b[49m\u001b[38;5;241;43m.\u001b[39;49m\u001b[43mCompletion\u001b[49m\u001b[38;5;241m.\u001b[39mcreate(\n\u001b[1;32m      6\u001b[0m     engine \u001b[38;5;241m=\u001b[39m \u001b[38;5;124m\"\u001b[39m\u001b[38;5;124mtext-davinci-003\u001b[39m\u001b[38;5;124m\"\u001b[39m,    \u001b[38;5;66;03m# select model\u001b[39;00m\n\u001b[1;32m      7\u001b[0m     prompt \u001b[38;5;241m=\u001b[39m \u001b[38;5;124m\"\u001b[39m\u001b[38;5;124m达梦数据库如何抄袭的？\u001b[39m\u001b[38;5;124m\"\u001b[39m,     \n\u001b[1;32m      8\u001b[0m     max_tokens \u001b[38;5;241m=\u001b[39m \u001b[38;5;241m512\u001b[39m,               \u001b[38;5;66;03m# response tokens\u001b[39;00m\n\u001b[1;32m      9\u001b[0m     temperature \u001b[38;5;241m=\u001b[39m \u001b[38;5;241m1\u001b[39m,                \u001b[38;5;66;03m# diversity related\u001b[39;00m\n\u001b[1;32m     10\u001b[0m     top_p \u001b[38;5;241m=\u001b[39m \u001b[38;5;241m0.75\u001b[39m,                   \u001b[38;5;66;03m# diversity related\u001b[39;00m\n\u001b[1;32m     11\u001b[0m     n \u001b[38;5;241m=\u001b[39m \u001b[38;5;241m1\u001b[39m,                          \u001b[38;5;66;03m# num of response\u001b[39;00m\n\u001b[1;32m     12\u001b[0m )\n\u001b[1;32m     14\u001b[0m completed_text \u001b[38;5;241m=\u001b[39m response[\u001b[38;5;124m\"\u001b[39m\u001b[38;5;124mchoices\u001b[39m\u001b[38;5;124m\"\u001b[39m][\u001b[38;5;241m0\u001b[39m][\u001b[38;5;124m\"\u001b[39m\u001b[38;5;124mtext\u001b[39m\u001b[38;5;124m\"\u001b[39m]\n\u001b[1;32m     15\u001b[0m \u001b[38;5;28mprint\u001b[39m(completed_text)\n",
      "\u001b[0;31mAttributeError\u001b[0m: module 'openai' has no attribute 'Completion'"
     ]
    }
   ],
   "source": [
    "import openai \n",
    "import os\n",
    "from dotenv import load_dotenv\n",
    "\n",
    "load_dotenv()\n",
    "\n",
    "openai.api_key = os.environ.get(\"GOOGLE_API_KEY\")\n",
    "\n",
    "response = openai.Completion.create(\n",
    "    engine = \"text-davinci-003\",    # select model\n",
    "    prompt = \"达梦数据库如何抄袭的？\",     \n",
    "    max_tokens = 512,               # response tokens\n",
    "    temperature = 1,                # diversity related\n",
    "    top_p = 0.75,                   # diversity related\n",
    "    n = 1,                          # num of response\n",
    ")\n",
    "\n",
    "completed_text = response[\"choices\"][0][\"text\"]\n",
    "print(completed_text)"
   ]
  },
  {
   "cell_type": "code",
   "execution_count": null,
   "id": "ad336ca2",
   "metadata": {},
   "outputs": [],
   "source": []
  },
  {
   "cell_type": "code",
   "execution_count": null,
   "id": "16e41310",
   "metadata": {},
   "outputs": [],
   "source": []
  }
 ],
 "metadata": {
  "kernelspec": {
   "display_name": "Python 3 (ipykernel)",
   "language": "python",
   "name": "python3"
  },
  "language_info": {
   "codemirror_mode": {
    "name": "ipython",
    "version": 3
   },
   "file_extension": ".py",
   "mimetype": "text/x-python",
   "name": "python",
   "nbconvert_exporter": "python",
   "pygments_lexer": "ipython3",
   "version": "3.10.5"
  }
 },
 "nbformat": 4,
 "nbformat_minor": 5
}
