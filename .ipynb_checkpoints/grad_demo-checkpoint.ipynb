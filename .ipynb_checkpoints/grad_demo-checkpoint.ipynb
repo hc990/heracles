{
 "cells": [
  {
   "cell_type": "code",
   "execution_count": 1,
   "id": "c5fe7cfe",
   "metadata": {},
   "outputs": [
    {
     "name": "stdout",
     "output_type": "stream",
     "text": [
      "[1. 1. 1. 1.]\n",
      "[0. 1. 2. 3.]\n",
      "14.0\n",
      "[0. 1. 2. 3. 4.]\n",
      "60.0\n",
      "[0. 1. 2. 3. 4.]\n",
      "[ 0.  4.  8. 12. 16.]\n",
      "----------------\n",
      "[0. 1. 2. 3. 4.]\n",
      "[ 0.  1.  4.  9. 16.]\n",
      "[ 0.  1.  8. 27. 64.]\n",
      "\n"
     ]
    }
   ],
   "source": [
    "from mxnet import autograd, np, npx\n",
    "\n",
    "npx.set_np()\n",
    "\n",
    "# demo1\n",
    "x = np.ones(4)\n",
    "print(x)\n",
    "# demo2\n",
    "x = np.arange(4.0)\n",
    "print(x)\n",
    "# demo3\n",
    "y = np.dot(x, x)\n",
    "print(y)\n",
    "# 把代码放到autograd.record内，以建立计算图\n",
    "x = np.arange(5.0)\n",
    "x.attach_grad()\n",
    "with autograd.record():\n",
    "    print(x)\n",
    "    y = 2 * np.dot(x, x)\n",
    "y.backward()\n",
    "print(y)\n",
    "print(x)\n",
    "print(x.grad)\n",
    "\n",
    "def f(a):\n",
    "    b = a * 2\n",
    "    print(np.linalg.norm(b))\n",
    "    while np.linalg.norm(b) < 1000:\n",
    "        b = b * 2\n",
    "        print(b)\n",
    "    print(b)\n",
    "    if b.sum() > 0:\n",
    "        c = b\n",
    "    else:\n",
    "        c = 100 * b\n",
    "    return c \n",
    "\n",
    "# a = np.random.normal()\n",
    "# print(a)\n",
    "# a.attach_grad()\n",
    "# with autograd.record():\n",
    "#     d = f(a)\n",
    "# d.backward()\n",
    "# print(d)\n",
    "# print(dir(np.random))\n",
    "print(\"----------------\")\n",
    "with autograd.record():\n",
    "    print(x)\n",
    "    y = x * x\n",
    "    u = y.detach()\n",
    "    print(u)\n",
    "    z = u * x\n",
    "    print(z)\n",
    "z.backward()\n",
    "x.grad == u\n",
    "print()\n"
   ]
  },
  {
   "cell_type": "code",
   "execution_count": null,
   "id": "e0dc8a7c",
   "metadata": {},
   "outputs": [],
   "source": []
  },
  {
   "cell_type": "code",
   "execution_count": null,
   "id": "c405732f",
   "metadata": {},
   "outputs": [],
   "source": []
  },
  {
   "cell_type": "code",
   "execution_count": null,
   "id": "c693795b",
   "metadata": {},
   "outputs": [],
   "source": []
  }
 ],
 "metadata": {
  "kernelspec": {
   "display_name": "Python 3 (ipykernel)",
   "language": "python",
   "name": "python3"
  },
  "language_info": {
   "codemirror_mode": {
    "name": "ipython",
    "version": 3
   },
   "file_extension": ".py",
   "mimetype": "text/x-python",
   "name": "python",
   "nbconvert_exporter": "python",
   "pygments_lexer": "ipython3",
   "version": "3.10.2"
  }
 },
 "nbformat": 4,
 "nbformat_minor": 5
}
