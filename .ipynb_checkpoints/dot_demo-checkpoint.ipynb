{
 "cells": [
  {
   "cell_type": "code",
   "execution_count": 1,
   "id": "179da7a4",
   "metadata": {},
   "outputs": [
    {
     "name": "stdout",
     "output_type": "stream",
     "text": [
      "[[1.1630787  2.2122064 ]\n",
      " [0.4838046  0.7740038 ]\n",
      " [0.29956347 1.0434403 ]\n",
      " [0.15302546 1.1839255 ]]\n",
      "=======\n",
      "[-3.7192957]\n",
      "features: [0.15302546 1.1839255 ] \n",
      "label: [-3.7192957]\n",
      "X shape: (4, 2) \n",
      "y shape: (4, 1)\n",
      "[0, 1, 2, 3, 4, 5, 6, 7, 8, 9]\n",
      "None\n"
     ]
    }
   ],
   "source": [
    "from mxnet import np\n",
    "import random\n",
    "w=np.array([2, -3.4])\n",
    "noise=0.01\n",
    "X = np.random.randn(4, len(w))\n",
    "print(X)\n",
    "print('=======')\n",
    "y = np.dot(X, w.reshape((-1, 1)))  \n",
    "print(2*X[3][0]+X[3][1]*(-3.4))\n",
    "print('features:', X[3],'\\nlabel:', y[3])\n",
    "print('X shape:', X.shape, '\\ny shape:', y.shape)\n",
    "\n",
    "indices = list(range(0, 10))\n",
    "print(indices)\n",
    "        # The examples are read in random order\n",
    "print(random.shuffle(indices))\n",
    "        "
   ]
  },
  {
   "cell_type": "code",
   "execution_count": null,
   "id": "aac15227",
   "metadata": {},
   "outputs": [],
   "source": []
  },
  {
   "cell_type": "code",
   "execution_count": null,
   "id": "4d966a6b",
   "metadata": {},
   "outputs": [],
   "source": []
  },
  {
   "cell_type": "code",
   "execution_count": null,
   "id": "08dc2586",
   "metadata": {},
   "outputs": [],
   "source": []
  },
  {
   "cell_type": "code",
   "execution_count": null,
   "id": "f0c0a073",
   "metadata": {},
   "outputs": [],
   "source": []
  },
  {
   "cell_type": "code",
   "execution_count": null,
   "id": "95afee9b",
   "metadata": {},
   "outputs": [],
   "source": []
  },
  {
   "cell_type": "code",
   "execution_count": null,
   "id": "22863382",
   "metadata": {},
   "outputs": [],
   "source": []
  }
 ],
 "metadata": {
  "kernelspec": {
   "display_name": "Python 3 (ipykernel)",
   "language": "python",
   "name": "python3"
  },
  "language_info": {
   "codemirror_mode": {
    "name": "ipython",
    "version": 3
   },
   "file_extension": ".py",
   "mimetype": "text/x-python",
   "name": "python",
   "nbconvert_exporter": "python",
   "pygments_lexer": "ipython3",
   "version": "3.10.2"
  }
 },
 "nbformat": 4,
 "nbformat_minor": 5
}
