{
 "cells": [
  {
   "cell_type": "markdown",
   "id": "3764ccf2",
   "metadata": {},
   "source": [
    "\n",
    "\n",
    "# 激活函数\n",
    "\n",
    "\n",
    "# 损失函数\n",
    "   比較兩個概率分佈之間的差別，創建損失函數，\n",
    "\n",
    "\n",
    "## 什么是激活函数\n",
    "\n",
    "   回答是或者不是的问题\n",
    "   \n",
    "\n",
    "## 极大似然估计\n",
    "\n",
    "\n",
    "## 信息量\n",
    "\n",
    "   一个事件不确定到确定的难度，信息量大表示难度比较大，信息量小表示难道比较小；\n",
    "   \n",
    "   \n",
    "## 熵\n",
    "\n",
    "$$\n",
    "  H(P) := E(P_{f}) \n",
    "  \n",
    "  H(P) = $\\sum{P_i}$\n",
    "\n",
    "$$\n",
    " \n",
    "   是指对f信息量的期望,定义了一个概率模型不确定的程度\n",
    "  \n",
    "\n",
    "## KL散度\n",
    "\n",
    "   趋近于0时，两个概率模型像\n",
    "\n",
    "## 交叉熵\n",
    "\n",
    "   两个概率模型像不像\n",
    "   如果小就说明两个概率模型像\n",
    "   如果大就说明两个概率模型不像\n",
    "   \n",
    "\n",
    "## 损失函数的作用\n",
    "    \n",
    "\n",
    "## softmax\n",
    "\n",
    "   激活函數\n",
    "   \n",
    "## 最大熵原理\n",
    "\n",
    "   \n",
    "## 矩\n",
    "\n",
    "   一阶矩、二阶矩、三阶矩\n",
    "   一个概率分布都可以用一个特征函数表示出来、可以用泰勒公式展开\n"
   ]
  },
  {
   "cell_type": "markdown",
   "id": "9583801b",
   "metadata": {},
   "source": []
  },
  {
   "cell_type": "code",
   "execution_count": null,
   "id": "c76fd44f",
   "metadata": {},
   "outputs": [],
   "source": []
  }
 ],
 "metadata": {
  "kernelspec": {
   "display_name": "Python 3 (ipykernel)",
   "language": "python",
   "name": "python3"
  },
  "language_info": {
   "codemirror_mode": {
    "name": "ipython",
    "version": 3
   },
   "file_extension": ".py",
   "mimetype": "text/x-python",
   "name": "python",
   "nbconvert_exporter": "python",
   "pygments_lexer": "ipython3",
   "version": "3.10.2"
  }
 },
 "nbformat": 4,
 "nbformat_minor": 5
}
